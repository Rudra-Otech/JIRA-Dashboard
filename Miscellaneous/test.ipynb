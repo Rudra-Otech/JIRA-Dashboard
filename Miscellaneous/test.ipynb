{
 "cells": [
  {
   "cell_type": "code",
   "execution_count": 1,
   "metadata": {},
   "outputs": [
    {
     "name": "stderr",
     "output_type": "stream",
     "text": [
      "c:\\Users\\rudra\\AppData\\Local\\Programs\\Python\\Python312\\Lib\\site-packages\\tqdm\\auto.py:21: TqdmWarning: IProgress not found. Please update jupyter and ipywidgets. See https://ipywidgets.readthedocs.io/en/stable/user_install.html\n",
      "  from .autonotebook import tqdm as notebook_tqdm\n"
     ]
    }
   ],
   "source": [
    "import pandas as pd\n",
    "import re\n",
    "from io import StringIO\n",
    "from ydata_profiling import ProfileReport\n",
    "import datetime as dt"
   ]
  },
  {
   "cell_type": "code",
   "execution_count": 6,
   "metadata": {},
   "outputs": [],
   "source": [
    "with open('table.html', 'r') as fileObj:\n",
    "    table_html = fileObj.read()\n",
    "\n",
    "table_html = re.sub(r'</?div[^>]*>', '', table_html)\n",
    "table_html = re.sub(r'</?a[^>]*>', '', table_html)\n",
    "table_html = re.sub(r'<img[^>]*alt=\"([^\"]*)\"[^>]*>', r'\\1', table_html)\n",
    "\n",
    "with open('table.html', 'w') as fileObj:\n",
    "    fileObj.write(table_html)\n",
    "\n",
    "with open('table2.html', 'r') as fileObj:\n",
    "    table_html2 = fileObj.read()\n",
    "\n",
    "table_html2 = re.sub(r'</?div[^>]*>', '', table_html2)\n",
    "table_html2 = re.sub(r'</?a[^>]*>', '', table_html2)\n",
    "table_html2 = re.sub(r'<img[^>]*alt=\"([^\"]*)\"[^>]*>', r'\\1', table_html2)\n",
    "\n",
    "with open('table2.html', 'w') as fileObj:\n",
    "    fileObj.write(table_html2)\n",
    "\n",
    "df = pd.DataFrame(*pd.read_html(StringIO(table_html))).drop(columns = 'Due').rename(columns={'P' : 'Priority', 'T' : 'Type', 'Key' : 'IssueKey'})\n",
    "df = pd.concat((\n",
    "    df,\n",
    "    pd.DataFrame(*pd.read_html(StringIO(table_html2))).drop(columns = 'Due').rename(columns={'P' : 'Priority', 'T' : 'Type', 'Key' : 'IssueKey'})\n",
    ")).drop_duplicates().reset_index().drop(columns='index')"
   ]
  },
  {
   "cell_type": "code",
   "execution_count": 7,
   "metadata": {},
   "outputs": [
    {
     "name": "stderr",
     "output_type": "stream",
     "text": [
      "C:\\Users\\rudra\\AppData\\Local\\Temp\\ipykernel_4832\\2766477355.py:1: UserWarning: Could not infer format, so each element will be parsed individually, falling back to `dateutil`. To ensure parsing is consistent and as-expected, please specify a format.\n",
      "  df['Created'] = pd.to_datetime(df['Created'])\n",
      "C:\\Users\\rudra\\AppData\\Local\\Temp\\ipykernel_4832\\2766477355.py:2: UserWarning: Could not infer format, so each element will be parsed individually, falling back to `dateutil`. To ensure parsing is consistent and as-expected, please specify a format.\n",
      "  df['Updated'] = pd.to_datetime(df['Updated'])\n"
     ]
    }
   ],
   "source": [
    "df['Created'] = pd.to_datetime(df['Created'])\n",
    "df['Updated'] = pd.to_datetime(df['Updated'])\n",
    "\n",
    "daysSince = lambda x : (dt.date.today() - x.date()).days\n",
    "df['Days Since Created'] = df['Created'].apply(daysSince)\n",
    "df['Days Since Update'] = df['Updated'].apply(daysSince)\n",
    "\n",
    "df['Created'] = df['Created'].astype(str)\n",
    "df['Updated'] = df['Updated'].astype(str)"
   ]
  },
  {
   "cell_type": "code",
   "execution_count": 8,
   "metadata": {},
   "outputs": [],
   "source": [
    "df['Priority Level'] = df['Priority'].apply(lambda x : {'Lowest' : 0, 'Low' : 1, 'Medium' : 2, 'High' : 3, 'Highest' : 4}[x])"
   ]
  },
  {
   "cell_type": "code",
   "execution_count": 9,
   "metadata": {},
   "outputs": [],
   "source": [
    "df.to_excel('Table.xlsx')"
   ]
  },
  {
   "cell_type": "code",
   "execution_count": 8,
   "metadata": {},
   "outputs": [
    {
     "name": "stderr",
     "output_type": "stream",
     "text": [
      "Summarize dataset: 100%|██████████| 26/26 [00:00<00:00, 40.05it/s, Completed]                                     \n",
      "Generate report structure: 100%|██████████| 1/1 [00:02<00:00,  2.79s/it]\n",
      "Render HTML: 100%|██████████| 1/1 [00:00<00:00,  4.70it/s]\n",
      "Export report to file: 100%|██████████| 1/1 [00:00<00:00, 66.22it/s]\n"
     ]
    }
   ],
   "source": [
    "profileReport = ProfileReport(df)\n",
    "profileReport.to_file('Profile Report.html')"
   ]
  }
 ],
 "metadata": {
  "kernelspec": {
   "display_name": "Python 3",
   "language": "python",
   "name": "python3"
  },
  "language_info": {
   "codemirror_mode": {
    "name": "ipython",
    "version": 3
   },
   "file_extension": ".py",
   "mimetype": "text/x-python",
   "name": "python",
   "nbconvert_exporter": "python",
   "pygments_lexer": "ipython3",
   "version": "3.12.4"
  }
 },
 "nbformat": 4,
 "nbformat_minor": 2
}
